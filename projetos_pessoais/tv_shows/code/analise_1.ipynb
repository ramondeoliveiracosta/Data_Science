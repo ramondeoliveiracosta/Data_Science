{
 "cells": [
  {
   "cell_type": "markdown",
   "id": "d342c56e",
   "metadata": {},
   "source": [
    "# Analisando o conjunto dos dados de Series de TV\n",
    "link: https://www.kaggle.com/datasets/priyanshuganwani09/entertainment-movies-tv-shows-database\n",
    "<br><br>\n",
    "O conjunto de dados criado para prever a taxa de sucesso de programas de TV e filmes em streaming usando modelos de aprendizado de máquina. Esses conjuntos de dados consistem em informações dos usuários. Esses conjuntos de dados podem ser usados ​​para entender as preferências e o comportamento do público em relação a diferentes tipos de conteúdo."
   ]
  },
  {
   "cell_type": "markdown",
   "id": "8ac770f3",
   "metadata": {},
   "source": [
    "## Limpando duplicatas"
   ]
  },
  {
   "cell_type": "code",
   "execution_count": 1,
   "id": "4935f65c",
   "metadata": {},
   "outputs": [],
   "source": [
    "import pandas as pd"
   ]
  },
  {
   "cell_type": "code",
   "execution_count": 2,
   "id": "88d924e3",
   "metadata": {},
   "outputs": [
    {
     "data": {
      "text/html": [
       "<div>\n",
       "<style scoped>\n",
       "    .dataframe tbody tr th:only-of-type {\n",
       "        vertical-align: middle;\n",
       "    }\n",
       "\n",
       "    .dataframe tbody tr th {\n",
       "        vertical-align: top;\n",
       "    }\n",
       "\n",
       "    .dataframe thead th {\n",
       "        text-align: right;\n",
       "    }\n",
       "</style>\n",
       "<table border=\"1\" class=\"dataframe\">\n",
       "  <thead>\n",
       "    <tr style=\"text-align: right;\">\n",
       "      <th></th>\n",
       "      <th>id</th>\n",
       "      <th>original_title</th>\n",
       "      <th>original_language</th>\n",
       "      <th>release_date</th>\n",
       "      <th>popularity</th>\n",
       "      <th>vote_average</th>\n",
       "      <th>vote_count</th>\n",
       "      <th>media_type</th>\n",
       "      <th>adult</th>\n",
       "    </tr>\n",
       "  </thead>\n",
       "  <tbody>\n",
       "    <tr>\n",
       "      <th>0</th>\n",
       "      <td>638974</td>\n",
       "      <td>Murder Mystery 2</td>\n",
       "      <td>English</td>\n",
       "      <td>2023-03-26</td>\n",
       "      <td>235.901</td>\n",
       "      <td>6.800</td>\n",
       "      <td>187</td>\n",
       "      <td>movie</td>\n",
       "      <td>False</td>\n",
       "    </tr>\n",
       "    <tr>\n",
       "      <th>1</th>\n",
       "      <td>677179</td>\n",
       "      <td>Creed III</td>\n",
       "      <td>English</td>\n",
       "      <td>2023-03-01</td>\n",
       "      <td>1537.879</td>\n",
       "      <td>7.200</td>\n",
       "      <td>561</td>\n",
       "      <td>movie</td>\n",
       "      <td>False</td>\n",
       "    </tr>\n",
       "    <tr>\n",
       "      <th>2</th>\n",
       "      <td>726759</td>\n",
       "      <td>Tetris</td>\n",
       "      <td>English</td>\n",
       "      <td>2023-03-15</td>\n",
       "      <td>66.661</td>\n",
       "      <td>7.700</td>\n",
       "      <td>100</td>\n",
       "      <td>movie</td>\n",
       "      <td>False</td>\n",
       "    </tr>\n",
       "    <tr>\n",
       "      <th>3</th>\n",
       "      <td>76600</td>\n",
       "      <td>Avatar: The Way of Water</td>\n",
       "      <td>English</td>\n",
       "      <td>2022-12-14</td>\n",
       "      <td>10224.280</td>\n",
       "      <td>7.742</td>\n",
       "      <td>6335</td>\n",
       "      <td>movie</td>\n",
       "      <td>False</td>\n",
       "    </tr>\n",
       "    <tr>\n",
       "      <th>4</th>\n",
       "      <td>849869</td>\n",
       "      <td>길복순</td>\n",
       "      <td>Korean</td>\n",
       "      <td>2023-02-17</td>\n",
       "      <td>33.985</td>\n",
       "      <td>6.900</td>\n",
       "      <td>39</td>\n",
       "      <td>movie</td>\n",
       "      <td>False</td>\n",
       "    </tr>\n",
       "  </tbody>\n",
       "</table>\n",
       "</div>"
      ],
      "text/plain": [
       "       id            original_title original_language release_date  \\\n",
       "0  638974          Murder Mystery 2           English   2023-03-26   \n",
       "1  677179                 Creed III           English   2023-03-01   \n",
       "2  726759                    Tetris           English   2023-03-15   \n",
       "3   76600  Avatar: The Way of Water           English   2022-12-14   \n",
       "4  849869                       길복순            Korean   2023-02-17   \n",
       "\n",
       "   popularity  vote_average  vote_count media_type  adult  \n",
       "0     235.901         6.800         187      movie  False  \n",
       "1    1537.879         7.200         561      movie  False  \n",
       "2      66.661         7.700         100      movie  False  \n",
       "3   10224.280         7.742        6335      movie  False  \n",
       "4      33.985         6.900          39      movie  False  "
      ]
     },
     "execution_count": 2,
     "metadata": {},
     "output_type": "execute_result"
    }
   ],
   "source": [
    "#Importando o arquivo\n",
    "file = '../data/trending.csv'\n",
    "ds = pd.read_csv(file)\n",
    "ds.drop(ds.columns[0], axis='columns', inplace=True)\n",
    "ds.head()"
   ]
  },
  {
   "cell_type": "code",
   "execution_count": 3,
   "id": "50b4a8a8",
   "metadata": {},
   "outputs": [
    {
     "name": "stdout",
     "output_type": "stream",
     "text": [
      "Quantidade de linhas: 16080.\n",
      "Quantidade de colunas: 9.\n"
     ]
    }
   ],
   "source": [
    "print('Quantidade de linhas: {}.'.format(ds.shape[0]))\n",
    "print('Quantidade de colunas: {}.'.format(ds.shape[1]))"
   ]
  },
  {
   "cell_type": "code",
   "execution_count": 4,
   "id": "12d16121",
   "metadata": {},
   "outputs": [],
   "source": [
    "ds.drop_duplicates(inplace=True)"
   ]
  },
  {
   "cell_type": "code",
   "execution_count": 5,
   "id": "069a553e",
   "metadata": {},
   "outputs": [
    {
     "name": "stdout",
     "output_type": "stream",
     "text": [
      "Quantidade de linhas: 20.\n",
      "Quantidade de colunas: 9.\n"
     ]
    }
   ],
   "source": [
    "print('Quantidade de linhas: {}.'.format(ds.shape[0]))\n",
    "print('Quantidade de colunas: {}.'.format(ds.shape[1]))"
   ]
  },
  {
   "cell_type": "markdown",
   "id": "43d712b1",
   "metadata": {},
   "source": [
    "## Tradução"
   ]
  },
  {
   "cell_type": "markdown",
   "id": "450f6f21",
   "metadata": {},
   "source": [
    "### Titulo das colunas"
   ]
  },
  {
   "cell_type": "code",
   "execution_count": 6,
   "id": "ef9ddee1",
   "metadata": {},
   "outputs": [
    {
     "data": {
      "text/plain": [
       "Index(['id', 'original_title', 'original_language', 'release_date',\n",
       "       'popularity', 'vote_average', 'vote_count', 'media_type', 'adult'],\n",
       "      dtype='object')"
      ]
     },
     "execution_count": 6,
     "metadata": {},
     "output_type": "execute_result"
    }
   ],
   "source": [
    "ds.columns"
   ]
  },
  {
   "cell_type": "code",
   "execution_count": 7,
   "id": "e9bd6ce0",
   "metadata": {},
   "outputs": [
    {
     "data": {
      "text/html": [
       "<div>\n",
       "<style scoped>\n",
       "    .dataframe tbody tr th:only-of-type {\n",
       "        vertical-align: middle;\n",
       "    }\n",
       "\n",
       "    .dataframe tbody tr th {\n",
       "        vertical-align: top;\n",
       "    }\n",
       "\n",
       "    .dataframe thead th {\n",
       "        text-align: right;\n",
       "    }\n",
       "</style>\n",
       "<table border=\"1\" class=\"dataframe\">\n",
       "  <thead>\n",
       "    <tr style=\"text-align: right;\">\n",
       "      <th></th>\n",
       "      <th>id</th>\n",
       "      <th>titulo</th>\n",
       "      <th>lingua_original</th>\n",
       "      <th>lancamento</th>\n",
       "      <th>popularidade</th>\n",
       "      <th>media_dos_votos</th>\n",
       "      <th>qtds_votos</th>\n",
       "      <th>tipo_de_midia</th>\n",
       "      <th>adulto</th>\n",
       "    </tr>\n",
       "  </thead>\n",
       "  <tbody>\n",
       "    <tr>\n",
       "      <th>0</th>\n",
       "      <td>638974</td>\n",
       "      <td>Murder Mystery 2</td>\n",
       "      <td>English</td>\n",
       "      <td>2023-03-26</td>\n",
       "      <td>235.901</td>\n",
       "      <td>6.800</td>\n",
       "      <td>187</td>\n",
       "      <td>movie</td>\n",
       "      <td>False</td>\n",
       "    </tr>\n",
       "    <tr>\n",
       "      <th>1</th>\n",
       "      <td>677179</td>\n",
       "      <td>Creed III</td>\n",
       "      <td>English</td>\n",
       "      <td>2023-03-01</td>\n",
       "      <td>1537.879</td>\n",
       "      <td>7.200</td>\n",
       "      <td>561</td>\n",
       "      <td>movie</td>\n",
       "      <td>False</td>\n",
       "    </tr>\n",
       "    <tr>\n",
       "      <th>2</th>\n",
       "      <td>726759</td>\n",
       "      <td>Tetris</td>\n",
       "      <td>English</td>\n",
       "      <td>2023-03-15</td>\n",
       "      <td>66.661</td>\n",
       "      <td>7.700</td>\n",
       "      <td>100</td>\n",
       "      <td>movie</td>\n",
       "      <td>False</td>\n",
       "    </tr>\n",
       "    <tr>\n",
       "      <th>3</th>\n",
       "      <td>76600</td>\n",
       "      <td>Avatar: The Way of Water</td>\n",
       "      <td>English</td>\n",
       "      <td>2022-12-14</td>\n",
       "      <td>10224.280</td>\n",
       "      <td>7.742</td>\n",
       "      <td>6335</td>\n",
       "      <td>movie</td>\n",
       "      <td>False</td>\n",
       "    </tr>\n",
       "    <tr>\n",
       "      <th>4</th>\n",
       "      <td>849869</td>\n",
       "      <td>길복순</td>\n",
       "      <td>Korean</td>\n",
       "      <td>2023-02-17</td>\n",
       "      <td>33.985</td>\n",
       "      <td>6.900</td>\n",
       "      <td>39</td>\n",
       "      <td>movie</td>\n",
       "      <td>False</td>\n",
       "    </tr>\n",
       "  </tbody>\n",
       "</table>\n",
       "</div>"
      ],
      "text/plain": [
       "       id                    titulo lingua_original  lancamento  popularidade  \\\n",
       "0  638974          Murder Mystery 2         English  2023-03-26       235.901   \n",
       "1  677179                 Creed III         English  2023-03-01      1537.879   \n",
       "2  726759                    Tetris         English  2023-03-15        66.661   \n",
       "3   76600  Avatar: The Way of Water         English  2022-12-14     10224.280   \n",
       "4  849869                       길복순          Korean  2023-02-17        33.985   \n",
       "\n",
       "   media_dos_votos  qtds_votos tipo_de_midia  adulto  \n",
       "0            6.800         187         movie   False  \n",
       "1            7.200         561         movie   False  \n",
       "2            7.700         100         movie   False  \n",
       "3            7.742        6335         movie   False  \n",
       "4            6.900          39         movie   False  "
      ]
     },
     "execution_count": 7,
     "metadata": {},
     "output_type": "execute_result"
    }
   ],
   "source": [
    "rename = {\n",
    "    'id': 'id',\n",
    "    'original_title': 'titulo',\n",
    "    'original_language': 'lingua_original',\n",
    "    'release_date': 'lancamento',\n",
    "    'popularity' : 'popularidade',\n",
    "    'vote_average' : 'media_dos_votos',\n",
    "    'vote_count' : 'qtds_votos',\n",
    "    'media_type': 'tipo_de_midia',\n",
    "    'adult': 'adulto'\n",
    "}\n",
    "ds.rename(columns=rename, inplace=True)\n",
    "ds.head()"
   ]
  },
  {
   "cell_type": "markdown",
   "id": "44221c0e",
   "metadata": {},
   "source": [
    "### Coluna \"lingua_original\""
   ]
  },
  {
   "cell_type": "code",
   "execution_count": 8,
   "id": "0d8ad3b1",
   "metadata": {},
   "outputs": [
    {
     "data": {
      "text/plain": [
       "array(['English', 'Korean', 'Spain', 'Chinese', 'Japanese'], dtype=object)"
      ]
     },
     "execution_count": 8,
     "metadata": {},
     "output_type": "execute_result"
    }
   ],
   "source": [
    "ds.lingua_original.unique()"
   ]
  },
  {
   "cell_type": "code",
   "execution_count": 9,
   "id": "c41bc745",
   "metadata": {},
   "outputs": [
    {
     "data": {
      "text/html": [
       "<div>\n",
       "<style scoped>\n",
       "    .dataframe tbody tr th:only-of-type {\n",
       "        vertical-align: middle;\n",
       "    }\n",
       "\n",
       "    .dataframe tbody tr th {\n",
       "        vertical-align: top;\n",
       "    }\n",
       "\n",
       "    .dataframe thead th {\n",
       "        text-align: right;\n",
       "    }\n",
       "</style>\n",
       "<table border=\"1\" class=\"dataframe\">\n",
       "  <thead>\n",
       "    <tr style=\"text-align: right;\">\n",
       "      <th></th>\n",
       "      <th>id</th>\n",
       "      <th>titulo</th>\n",
       "      <th>lingua_original</th>\n",
       "      <th>lancamento</th>\n",
       "      <th>popularidade</th>\n",
       "      <th>media_dos_votos</th>\n",
       "      <th>qtds_votos</th>\n",
       "      <th>tipo_de_midia</th>\n",
       "      <th>adulto</th>\n",
       "    </tr>\n",
       "  </thead>\n",
       "  <tbody>\n",
       "    <tr>\n",
       "      <th>0</th>\n",
       "      <td>638974</td>\n",
       "      <td>Murder Mystery 2</td>\n",
       "      <td>Inglês</td>\n",
       "      <td>2023-03-26</td>\n",
       "      <td>235.901</td>\n",
       "      <td>6.800</td>\n",
       "      <td>187</td>\n",
       "      <td>movie</td>\n",
       "      <td>False</td>\n",
       "    </tr>\n",
       "    <tr>\n",
       "      <th>1</th>\n",
       "      <td>677179</td>\n",
       "      <td>Creed III</td>\n",
       "      <td>Inglês</td>\n",
       "      <td>2023-03-01</td>\n",
       "      <td>1537.879</td>\n",
       "      <td>7.200</td>\n",
       "      <td>561</td>\n",
       "      <td>movie</td>\n",
       "      <td>False</td>\n",
       "    </tr>\n",
       "    <tr>\n",
       "      <th>2</th>\n",
       "      <td>726759</td>\n",
       "      <td>Tetris</td>\n",
       "      <td>Inglês</td>\n",
       "      <td>2023-03-15</td>\n",
       "      <td>66.661</td>\n",
       "      <td>7.700</td>\n",
       "      <td>100</td>\n",
       "      <td>movie</td>\n",
       "      <td>False</td>\n",
       "    </tr>\n",
       "    <tr>\n",
       "      <th>3</th>\n",
       "      <td>76600</td>\n",
       "      <td>Avatar: The Way of Water</td>\n",
       "      <td>Inglês</td>\n",
       "      <td>2022-12-14</td>\n",
       "      <td>10224.280</td>\n",
       "      <td>7.742</td>\n",
       "      <td>6335</td>\n",
       "      <td>movie</td>\n",
       "      <td>False</td>\n",
       "    </tr>\n",
       "    <tr>\n",
       "      <th>4</th>\n",
       "      <td>849869</td>\n",
       "      <td>길복순</td>\n",
       "      <td>Coreano</td>\n",
       "      <td>2023-02-17</td>\n",
       "      <td>33.985</td>\n",
       "      <td>6.900</td>\n",
       "      <td>39</td>\n",
       "      <td>movie</td>\n",
       "      <td>False</td>\n",
       "    </tr>\n",
       "  </tbody>\n",
       "</table>\n",
       "</div>"
      ],
      "text/plain": [
       "       id                    titulo lingua_original  lancamento  popularidade  \\\n",
       "0  638974          Murder Mystery 2          Inglês  2023-03-26       235.901   \n",
       "1  677179                 Creed III          Inglês  2023-03-01      1537.879   \n",
       "2  726759                    Tetris          Inglês  2023-03-15        66.661   \n",
       "3   76600  Avatar: The Way of Water          Inglês  2022-12-14     10224.280   \n",
       "4  849869                       길복순         Coreano  2023-02-17        33.985   \n",
       "\n",
       "   media_dos_votos  qtds_votos tipo_de_midia  adulto  \n",
       "0            6.800         187         movie   False  \n",
       "1            7.200         561         movie   False  \n",
       "2            7.700         100         movie   False  \n",
       "3            7.742        6335         movie   False  \n",
       "4            6.900          39         movie   False  "
      ]
     },
     "execution_count": 9,
     "metadata": {},
     "output_type": "execute_result"
    }
   ],
   "source": [
    "rename = {\n",
    "    'English' : 'Inglês',\n",
    "    'Korean' : 'Coreano',\n",
    "    'Spain' : 'Espanhol' ,\n",
    "    'Chinese' : 'Chines',\n",
    "    'Japanese' : 'Japones'    \n",
    "}\n",
    "ds.lingua_original = ds.lingua_original.map(rename)\n",
    "ds.head()"
   ]
  },
  {
   "cell_type": "code",
   "execution_count": 10,
   "id": "e9e44ead",
   "metadata": {},
   "outputs": [
    {
     "data": {
      "text/plain": [
       "array(['Inglês', 'Coreano', 'Espanhol', 'Chines', 'Japones'], dtype=object)"
      ]
     },
     "execution_count": 10,
     "metadata": {},
     "output_type": "execute_result"
    }
   ],
   "source": [
    "ds.lingua_original.unique()"
   ]
  },
  {
   "cell_type": "markdown",
   "id": "b5a2a907",
   "metadata": {},
   "source": [
    "### Coluna \"tipo_de_midia\""
   ]
  },
  {
   "cell_type": "code",
   "execution_count": 11,
   "id": "edf53686",
   "metadata": {},
   "outputs": [
    {
     "data": {
      "text/plain": [
       "array(['movie', 'tv'], dtype=object)"
      ]
     },
     "execution_count": 11,
     "metadata": {},
     "output_type": "execute_result"
    }
   ],
   "source": [
    "ds.tipo_de_midia.unique()"
   ]
  },
  {
   "cell_type": "code",
   "execution_count": 12,
   "id": "9f499ce4",
   "metadata": {},
   "outputs": [
    {
     "data": {
      "text/html": [
       "<div>\n",
       "<style scoped>\n",
       "    .dataframe tbody tr th:only-of-type {\n",
       "        vertical-align: middle;\n",
       "    }\n",
       "\n",
       "    .dataframe tbody tr th {\n",
       "        vertical-align: top;\n",
       "    }\n",
       "\n",
       "    .dataframe thead th {\n",
       "        text-align: right;\n",
       "    }\n",
       "</style>\n",
       "<table border=\"1\" class=\"dataframe\">\n",
       "  <thead>\n",
       "    <tr style=\"text-align: right;\">\n",
       "      <th></th>\n",
       "      <th>id</th>\n",
       "      <th>titulo</th>\n",
       "      <th>lingua_original</th>\n",
       "      <th>lancamento</th>\n",
       "      <th>popularidade</th>\n",
       "      <th>media_dos_votos</th>\n",
       "      <th>qtds_votos</th>\n",
       "      <th>tipo_de_midia</th>\n",
       "      <th>adulto</th>\n",
       "    </tr>\n",
       "  </thead>\n",
       "  <tbody>\n",
       "    <tr>\n",
       "      <th>0</th>\n",
       "      <td>638974</td>\n",
       "      <td>Murder Mystery 2</td>\n",
       "      <td>Inglês</td>\n",
       "      <td>2023-03-26</td>\n",
       "      <td>235.901</td>\n",
       "      <td>6.800</td>\n",
       "      <td>187</td>\n",
       "      <td>Filme</td>\n",
       "      <td>False</td>\n",
       "    </tr>\n",
       "    <tr>\n",
       "      <th>1</th>\n",
       "      <td>677179</td>\n",
       "      <td>Creed III</td>\n",
       "      <td>Inglês</td>\n",
       "      <td>2023-03-01</td>\n",
       "      <td>1537.879</td>\n",
       "      <td>7.200</td>\n",
       "      <td>561</td>\n",
       "      <td>Filme</td>\n",
       "      <td>False</td>\n",
       "    </tr>\n",
       "    <tr>\n",
       "      <th>2</th>\n",
       "      <td>726759</td>\n",
       "      <td>Tetris</td>\n",
       "      <td>Inglês</td>\n",
       "      <td>2023-03-15</td>\n",
       "      <td>66.661</td>\n",
       "      <td>7.700</td>\n",
       "      <td>100</td>\n",
       "      <td>Filme</td>\n",
       "      <td>False</td>\n",
       "    </tr>\n",
       "    <tr>\n",
       "      <th>3</th>\n",
       "      <td>76600</td>\n",
       "      <td>Avatar: The Way of Water</td>\n",
       "      <td>Inglês</td>\n",
       "      <td>2022-12-14</td>\n",
       "      <td>10224.280</td>\n",
       "      <td>7.742</td>\n",
       "      <td>6335</td>\n",
       "      <td>Filme</td>\n",
       "      <td>False</td>\n",
       "    </tr>\n",
       "    <tr>\n",
       "      <th>4</th>\n",
       "      <td>849869</td>\n",
       "      <td>길복순</td>\n",
       "      <td>Coreano</td>\n",
       "      <td>2023-02-17</td>\n",
       "      <td>33.985</td>\n",
       "      <td>6.900</td>\n",
       "      <td>39</td>\n",
       "      <td>Filme</td>\n",
       "      <td>False</td>\n",
       "    </tr>\n",
       "  </tbody>\n",
       "</table>\n",
       "</div>"
      ],
      "text/plain": [
       "       id                    titulo lingua_original  lancamento  popularidade  \\\n",
       "0  638974          Murder Mystery 2          Inglês  2023-03-26       235.901   \n",
       "1  677179                 Creed III          Inglês  2023-03-01      1537.879   \n",
       "2  726759                    Tetris          Inglês  2023-03-15        66.661   \n",
       "3   76600  Avatar: The Way of Water          Inglês  2022-12-14     10224.280   \n",
       "4  849869                       길복순         Coreano  2023-02-17        33.985   \n",
       "\n",
       "   media_dos_votos  qtds_votos tipo_de_midia  adulto  \n",
       "0            6.800         187         Filme   False  \n",
       "1            7.200         561         Filme   False  \n",
       "2            7.700         100         Filme   False  \n",
       "3            7.742        6335         Filme   False  \n",
       "4            6.900          39         Filme   False  "
      ]
     },
     "execution_count": 12,
     "metadata": {},
     "output_type": "execute_result"
    }
   ],
   "source": [
    "rename = {\n",
    "    'movie' : 'Filme',\n",
    "    'tv' : 'Tv'    \n",
    "}\n",
    "ds.tipo_de_midia = ds.tipo_de_midia.map(rename)\n",
    "ds.head()"
   ]
  },
  {
   "cell_type": "code",
   "execution_count": 13,
   "id": "7be9e6b5",
   "metadata": {},
   "outputs": [
    {
     "data": {
      "text/plain": [
       "array(['Filme', 'Tv'], dtype=object)"
      ]
     },
     "execution_count": 13,
     "metadata": {},
     "output_type": "execute_result"
    }
   ],
   "source": [
    "ds.tipo_de_midia.unique()"
   ]
  },
  {
   "cell_type": "markdown",
   "id": "9400d9c8",
   "metadata": {},
   "source": [
    "## Analisando a qualidade dos dados"
   ]
  },
  {
   "cell_type": "code",
   "execution_count": 14,
   "id": "5042091d",
   "metadata": {},
   "outputs": [
    {
     "name": "stdout",
     "output_type": "stream",
     "text": [
      "O conjunto contem 20 linhas e 9 colunas.\n",
      "Quantidade de dados nulos:\n"
     ]
    },
    {
     "data": {
      "text/plain": [
       "id                 0\n",
       "titulo             5\n",
       "lingua_original    0\n",
       "lancamento         5\n",
       "popularidade       0\n",
       "media_dos_votos    0\n",
       "qtds_votos         0\n",
       "tipo_de_midia      0\n",
       "adulto             0\n",
       "dtype: int64"
      ]
     },
     "execution_count": 14,
     "metadata": {},
     "output_type": "execute_result"
    }
   ],
   "source": [
    "quant_lin_1, quant_colun_1 = ds.shape[0], ds.shape[1]\n",
    "print('O conjunto contem {} linhas e {} colunas.'.format(quant_lin_1, quant_colun_1))\n",
    "print('Quantidade de dados nulos:')\n",
    "quant_nul_1 = ds.isna().sum().sum()\n",
    "ds.isna().sum()"
   ]
  },
  {
   "cell_type": "code",
   "execution_count": 15,
   "id": "5532117c",
   "metadata": {},
   "outputs": [],
   "source": [
    "ds.dropna(subset=[\"titulo\"], inplace=True)"
   ]
  },
  {
   "cell_type": "code",
   "execution_count": 16,
   "id": "a766fbbd",
   "metadata": {},
   "outputs": [
    {
     "name": "stdout",
     "output_type": "stream",
     "text": [
      "O conjunto contem 15 linhas e 9 colunas.\n",
      "Quantidade de dados nulos:\n"
     ]
    },
    {
     "data": {
      "text/plain": [
       "id                 0\n",
       "titulo             0\n",
       "lingua_original    0\n",
       "lancamento         0\n",
       "popularidade       0\n",
       "media_dos_votos    0\n",
       "qtds_votos         0\n",
       "tipo_de_midia      0\n",
       "adulto             0\n",
       "dtype: int64"
      ]
     },
     "execution_count": 16,
     "metadata": {},
     "output_type": "execute_result"
    }
   ],
   "source": [
    "quant_lin_2, quant_colun_2 = ds.shape[0], ds.shape[1]\n",
    "print('O conjunto contem {} linhas e {} colunas.'.format(quant_lin_2, quant_colun_2))\n",
    "print('Quantidade de dados nulos:')\n",
    "quant_nul_2 = ds.isna().sum().sum()\n",
    "ds.isna().sum()"
   ]
  },
  {
   "cell_type": "code",
   "execution_count": 17,
   "id": "b516dbe9",
   "metadata": {},
   "outputs": [
    {
     "name": "stdout",
     "output_type": "stream",
     "text": [
      "Pré tratamento: 20 linhas e 9 Colunas e 10 dados nulos.\n",
      "Pós tratamento: 15 linhas e 9 Colunas e 0 dados nulos.\n"
     ]
    }
   ],
   "source": [
    "print('Pré tratamento: {} linhas e {} Colunas e {} dados nulos.'.format(quant_lin_1, quant_colun_1, quant_nul_1))\n",
    "print('Pós tratamento: {} linhas e {} Colunas e {} dados nulos.'.format(quant_lin_2, quant_colun_2, quant_nul_2))"
   ]
  },
  {
   "cell_type": "markdown",
   "id": "65da3d63",
   "metadata": {},
   "source": [
    "## Analise dos dados"
   ]
  },
  {
   "cell_type": "markdown",
   "id": "16bf36b5",
   "metadata": {},
   "source": [
    "Perguntas a serem respondidas:<br>\n",
    "1 - Quais os filmes mais populares dos anos.<br>\n",
    "2 - Qual a Lingua mais presente no conjunto de dados.<br>\n",
    "3 - A quantidade de filmes por ano.<br>\n",
    "4 - A quantidade de filmes por lingua.<br>\n",
    "5 - A quantidade de filmes por ano e lingua.<br>\n",
    "6 - Comparar a popularidade das linguas dos filmes pelo tempo.<br>"
   ]
  },
  {
   "cell_type": "code",
   "execution_count": 18,
   "id": "e6bb4bd6",
   "metadata": {},
   "outputs": [
    {
     "data": {
      "text/plain": [
       "(15, 9)"
      ]
     },
     "execution_count": 18,
     "metadata": {},
     "output_type": "execute_result"
    }
   ],
   "source": [
    "ds.shape"
   ]
  },
  {
   "cell_type": "markdown",
   "id": "b3b7465c",
   "metadata": {},
   "source": [
    "### Alterando os tipos dos dados"
   ]
  },
  {
   "cell_type": "code",
   "execution_count": 19,
   "id": "8fee52cc",
   "metadata": {},
   "outputs": [
    {
     "data": {
      "text/plain": [
       "id                   int64\n",
       "titulo              object\n",
       "lingua_original     object\n",
       "lancamento          object\n",
       "popularidade       float64\n",
       "media_dos_votos    float64\n",
       "qtds_votos           int64\n",
       "tipo_de_midia       object\n",
       "adulto                bool\n",
       "dtype: object"
      ]
     },
     "execution_count": 19,
     "metadata": {},
     "output_type": "execute_result"
    }
   ],
   "source": [
    "ds.dtypes"
   ]
  },
  {
   "cell_type": "code",
   "execution_count": 20,
   "id": "f2a2d273",
   "metadata": {},
   "outputs": [
    {
     "data": {
      "text/plain": [
       "id                          int64\n",
       "titulo                     object\n",
       "lingua_original            object\n",
       "lancamento         datetime64[ns]\n",
       "popularidade              float64\n",
       "media_dos_votos           float64\n",
       "qtds_votos                  int64\n",
       "tipo_de_midia              object\n",
       "adulto                       bool\n",
       "dtype: object"
      ]
     },
     "execution_count": 20,
     "metadata": {},
     "output_type": "execute_result"
    }
   ],
   "source": [
    "ds.lancamento = pd.to_datetime(ds.lancamento)\n",
    "ds.dtypes"
   ]
  },
  {
   "cell_type": "markdown",
   "id": "c4b3b836",
   "metadata": {},
   "source": [
    "### 1 - Quais os filmes mais populares dos anos?"
   ]
  },
  {
   "cell_type": "code",
   "execution_count": 21,
   "id": "6cd69d72",
   "metadata": {},
   "outputs": [],
   "source": [
    "import datetime"
   ]
  },
  {
   "cell_type": "code",
   "execution_count": 22,
   "id": "f1884805",
   "metadata": {},
   "outputs": [
    {
     "data": {
      "text/html": [
       "<div>\n",
       "<style scoped>\n",
       "    .dataframe tbody tr th:only-of-type {\n",
       "        vertical-align: middle;\n",
       "    }\n",
       "\n",
       "    .dataframe tbody tr th {\n",
       "        vertical-align: top;\n",
       "    }\n",
       "\n",
       "    .dataframe thead th {\n",
       "        text-align: right;\n",
       "    }\n",
       "</style>\n",
       "<table border=\"1\" class=\"dataframe\">\n",
       "  <thead>\n",
       "    <tr style=\"text-align: right;\">\n",
       "      <th></th>\n",
       "      <th>id</th>\n",
       "      <th>titulo</th>\n",
       "      <th>lingua_original</th>\n",
       "      <th>lancamento</th>\n",
       "      <th>popularidade</th>\n",
       "      <th>media_dos_votos</th>\n",
       "      <th>qtds_votos</th>\n",
       "      <th>tipo_de_midia</th>\n",
       "      <th>adulto</th>\n",
       "      <th>ano</th>\n",
       "    </tr>\n",
       "  </thead>\n",
       "  <tbody>\n",
       "    <tr>\n",
       "      <th>0</th>\n",
       "      <td>638974</td>\n",
       "      <td>Murder Mystery 2</td>\n",
       "      <td>Inglês</td>\n",
       "      <td>2023-03-26</td>\n",
       "      <td>235.901</td>\n",
       "      <td>6.800</td>\n",
       "      <td>187</td>\n",
       "      <td>Filme</td>\n",
       "      <td>False</td>\n",
       "      <td>2023</td>\n",
       "    </tr>\n",
       "    <tr>\n",
       "      <th>1</th>\n",
       "      <td>677179</td>\n",
       "      <td>Creed III</td>\n",
       "      <td>Inglês</td>\n",
       "      <td>2023-03-01</td>\n",
       "      <td>1537.879</td>\n",
       "      <td>7.200</td>\n",
       "      <td>561</td>\n",
       "      <td>Filme</td>\n",
       "      <td>False</td>\n",
       "      <td>2023</td>\n",
       "    </tr>\n",
       "    <tr>\n",
       "      <th>2</th>\n",
       "      <td>726759</td>\n",
       "      <td>Tetris</td>\n",
       "      <td>Inglês</td>\n",
       "      <td>2023-03-15</td>\n",
       "      <td>66.661</td>\n",
       "      <td>7.700</td>\n",
       "      <td>100</td>\n",
       "      <td>Filme</td>\n",
       "      <td>False</td>\n",
       "      <td>2023</td>\n",
       "    </tr>\n",
       "    <tr>\n",
       "      <th>3</th>\n",
       "      <td>76600</td>\n",
       "      <td>Avatar: The Way of Water</td>\n",
       "      <td>Inglês</td>\n",
       "      <td>2022-12-14</td>\n",
       "      <td>10224.280</td>\n",
       "      <td>7.742</td>\n",
       "      <td>6335</td>\n",
       "      <td>Filme</td>\n",
       "      <td>False</td>\n",
       "      <td>2022</td>\n",
       "    </tr>\n",
       "    <tr>\n",
       "      <th>4</th>\n",
       "      <td>849869</td>\n",
       "      <td>길복순</td>\n",
       "      <td>Coreano</td>\n",
       "      <td>2023-02-17</td>\n",
       "      <td>33.985</td>\n",
       "      <td>6.900</td>\n",
       "      <td>39</td>\n",
       "      <td>Filme</td>\n",
       "      <td>False</td>\n",
       "      <td>2023</td>\n",
       "    </tr>\n",
       "  </tbody>\n",
       "</table>\n",
       "</div>"
      ],
      "text/plain": [
       "       id                    titulo lingua_original lancamento  popularidade  \\\n",
       "0  638974          Murder Mystery 2          Inglês 2023-03-26       235.901   \n",
       "1  677179                 Creed III          Inglês 2023-03-01      1537.879   \n",
       "2  726759                    Tetris          Inglês 2023-03-15        66.661   \n",
       "3   76600  Avatar: The Way of Water          Inglês 2022-12-14     10224.280   \n",
       "4  849869                       길복순         Coreano 2023-02-17        33.985   \n",
       "\n",
       "   media_dos_votos  qtds_votos tipo_de_midia  adulto   ano  \n",
       "0            6.800         187         Filme   False  2023  \n",
       "1            7.200         561         Filme   False  2023  \n",
       "2            7.700         100         Filme   False  2023  \n",
       "3            7.742        6335         Filme   False  2022  \n",
       "4            6.900          39         Filme   False  2023  "
      ]
     },
     "execution_count": 22,
     "metadata": {},
     "output_type": "execute_result"
    }
   ],
   "source": [
    "ds['ano'] = ds.lancamento.dt.year\n",
    "ds.head()"
   ]
  },
  {
   "cell_type": "code",
   "execution_count": 25,
   "id": "0b55055a",
   "metadata": {},
   "outputs": [
    {
     "data": {
      "text/html": [
       "<div>\n",
       "<style scoped>\n",
       "    .dataframe tbody tr th:only-of-type {\n",
       "        vertical-align: middle;\n",
       "    }\n",
       "\n",
       "    .dataframe tbody tr th {\n",
       "        vertical-align: top;\n",
       "    }\n",
       "\n",
       "    .dataframe thead th {\n",
       "        text-align: right;\n",
       "    }\n",
       "</style>\n",
       "<table border=\"1\" class=\"dataframe\">\n",
       "  <thead>\n",
       "    <tr style=\"text-align: right;\">\n",
       "      <th></th>\n",
       "      <th>id</th>\n",
       "      <th>titulo</th>\n",
       "      <th>lingua_original</th>\n",
       "      <th>lancamento</th>\n",
       "      <th>popularidade</th>\n",
       "      <th>media_dos_votos</th>\n",
       "      <th>qtds_votos</th>\n",
       "      <th>tipo_de_midia</th>\n",
       "      <th>adulto</th>\n",
       "      <th>ano</th>\n",
       "    </tr>\n",
       "  </thead>\n",
       "  <tbody>\n",
       "    <tr>\n",
       "      <th>5</th>\n",
       "      <td>603692</td>\n",
       "      <td>John Wick: Chapter 4</td>\n",
       "      <td>Inglês</td>\n",
       "      <td>2023-03-22</td>\n",
       "      <td>2569.508</td>\n",
       "      <td>8.161</td>\n",
       "      <td>635</td>\n",
       "      <td>Filme</td>\n",
       "      <td>False</td>\n",
       "      <td>2023</td>\n",
       "    </tr>\n",
       "    <tr>\n",
       "      <th>3</th>\n",
       "      <td>76600</td>\n",
       "      <td>Avatar: The Way of Water</td>\n",
       "      <td>Inglês</td>\n",
       "      <td>2022-12-14</td>\n",
       "      <td>10224.280</td>\n",
       "      <td>7.742</td>\n",
       "      <td>6335</td>\n",
       "      <td>Filme</td>\n",
       "      <td>False</td>\n",
       "      <td>2022</td>\n",
       "    </tr>\n",
       "    <tr>\n",
       "      <th>10</th>\n",
       "      <td>514999</td>\n",
       "      <td>Murder Mystery</td>\n",
       "      <td>Inglês</td>\n",
       "      <td>2019-05-25</td>\n",
       "      <td>197.421</td>\n",
       "      <td>6.252</td>\n",
       "      <td>3642</td>\n",
       "      <td>Filme</td>\n",
       "      <td>False</td>\n",
       "      <td>2019</td>\n",
       "    </tr>\n",
       "  </tbody>\n",
       "</table>\n",
       "</div>"
      ],
      "text/plain": [
       "        id                    titulo lingua_original lancamento  popularidade  \\\n",
       "5   603692      John Wick: Chapter 4          Inglês 2023-03-22      2569.508   \n",
       "3    76600  Avatar: The Way of Water          Inglês 2022-12-14     10224.280   \n",
       "10  514999            Murder Mystery          Inglês 2019-05-25       197.421   \n",
       "\n",
       "    media_dos_votos  qtds_votos tipo_de_midia  adulto   ano  \n",
       "5             8.161         635         Filme   False  2023  \n",
       "3             7.742        6335         Filme   False  2022  \n",
       "10            6.252        3642         Filme   False  2019  "
      ]
     },
     "execution_count": 25,
     "metadata": {},
     "output_type": "execute_result"
    }
   ],
   "source": [
    "maior = []\n",
    "for ano in ds.ano.unique():\n",
    "    selecao = ds[ds.ano == ano]\n",
    "    popularidade = selecao.popularidade.tolist()\n",
    "    index = popularidade.index(max(popularidade))\n",
    "    tupla = selecao.iloc[index]\n",
    "    maior.append(tupla)\n",
    "    maior\n",
    "ds_populares_ano = pd.DataFrame(maior)\n",
    "ds_populares_ano"
   ]
  },
  {
   "cell_type": "code",
   "execution_count": null,
   "id": "5c3b96ee",
   "metadata": {},
   "outputs": [],
   "source": []
  }
 ],
 "metadata": {
  "kernelspec": {
   "display_name": "Python 3 (ipykernel)",
   "language": "python",
   "name": "python3"
  },
  "language_info": {
   "codemirror_mode": {
    "name": "ipython",
    "version": 3
   },
   "file_extension": ".py",
   "mimetype": "text/x-python",
   "name": "python",
   "nbconvert_exporter": "python",
   "pygments_lexer": "ipython3",
   "version": "3.11.2"
  }
 },
 "nbformat": 4,
 "nbformat_minor": 5
}
