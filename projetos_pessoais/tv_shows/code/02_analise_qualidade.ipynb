{
 "cells": [
  {
   "cell_type": "markdown",
   "id": "c8f70085",
   "metadata": {},
   "source": [
    "# Analisando a qualidade dos dados de Series de TV\n",
    "link: https://www.kaggle.com/datasets/priyanshuganwani09/entertainment-movies-tv-shows-database\n",
    "<br><br>\n",
    "O conjunto de dados criado para prever a taxa de sucesso de programas de TV e filmes em streaming usando modelos de aprendizado de máquina. Esses conjuntos de dados consistem em informações dos usuários. Esses conjuntos de dados podem ser usados ​​para entender as preferências e o comportamento do público em relação a diferentes tipos de conteúdo."
   ]
  },
  {
   "cell_type": "code",
   "execution_count": 1,
   "id": "b46cdb8b",
   "metadata": {},
   "outputs": [],
   "source": [
    "import pandas as pd"
   ]
  },
  {
   "cell_type": "code",
   "execution_count": 2,
   "id": "517aec42",
   "metadata": {},
   "outputs": [],
   "source": [
    "ds = pd.read_csv('../data/tendencias.csv', sep=';')"
   ]
  },
  {
   "cell_type": "code",
   "execution_count": 3,
   "id": "0e17a679",
   "metadata": {},
   "outputs": [
    {
     "data": {
      "text/html": [
       "<div>\n",
       "<style scoped>\n",
       "    .dataframe tbody tr th:only-of-type {\n",
       "        vertical-align: middle;\n",
       "    }\n",
       "\n",
       "    .dataframe tbody tr th {\n",
       "        vertical-align: top;\n",
       "    }\n",
       "\n",
       "    .dataframe thead th {\n",
       "        text-align: right;\n",
       "    }\n",
       "</style>\n",
       "<table border=\"1\" class=\"dataframe\">\n",
       "  <thead>\n",
       "    <tr style=\"text-align: right;\">\n",
       "      <th></th>\n",
       "      <th>id</th>\n",
       "      <th>titulo</th>\n",
       "      <th>lingua_original</th>\n",
       "      <th>lancamento</th>\n",
       "      <th>popularidade</th>\n",
       "      <th>media_dos_votos</th>\n",
       "      <th>qtds_votos</th>\n",
       "      <th>tipo_de_midia</th>\n",
       "      <th>adulto</th>\n",
       "    </tr>\n",
       "  </thead>\n",
       "  <tbody>\n",
       "    <tr>\n",
       "      <th>0</th>\n",
       "      <td>638974</td>\n",
       "      <td>Murder Mystery 2</td>\n",
       "      <td>Ingles</td>\n",
       "      <td>2023-03-26</td>\n",
       "      <td>235.901</td>\n",
       "      <td>6.800</td>\n",
       "      <td>187</td>\n",
       "      <td>Filme</td>\n",
       "      <td>False</td>\n",
       "    </tr>\n",
       "    <tr>\n",
       "      <th>1</th>\n",
       "      <td>677179</td>\n",
       "      <td>Creed III</td>\n",
       "      <td>Ingles</td>\n",
       "      <td>2023-03-01</td>\n",
       "      <td>1537.879</td>\n",
       "      <td>7.200</td>\n",
       "      <td>561</td>\n",
       "      <td>Filme</td>\n",
       "      <td>False</td>\n",
       "    </tr>\n",
       "    <tr>\n",
       "      <th>2</th>\n",
       "      <td>726759</td>\n",
       "      <td>Tetris</td>\n",
       "      <td>Ingles</td>\n",
       "      <td>2023-03-15</td>\n",
       "      <td>66.661</td>\n",
       "      <td>7.700</td>\n",
       "      <td>100</td>\n",
       "      <td>Filme</td>\n",
       "      <td>False</td>\n",
       "    </tr>\n",
       "    <tr>\n",
       "      <th>3</th>\n",
       "      <td>76600</td>\n",
       "      <td>Avatar: The Way of Water</td>\n",
       "      <td>Ingles</td>\n",
       "      <td>2022-12-14</td>\n",
       "      <td>10224.280</td>\n",
       "      <td>7.742</td>\n",
       "      <td>6335</td>\n",
       "      <td>Filme</td>\n",
       "      <td>False</td>\n",
       "    </tr>\n",
       "    <tr>\n",
       "      <th>4</th>\n",
       "      <td>849869</td>\n",
       "      <td>길복순</td>\n",
       "      <td>Koreano</td>\n",
       "      <td>2023-02-17</td>\n",
       "      <td>33.985</td>\n",
       "      <td>6.900</td>\n",
       "      <td>39</td>\n",
       "      <td>Filme</td>\n",
       "      <td>False</td>\n",
       "    </tr>\n",
       "  </tbody>\n",
       "</table>\n",
       "</div>"
      ],
      "text/plain": [
       "       id                    titulo lingua_original  lancamento  popularidade  \\\n",
       "0  638974          Murder Mystery 2          Ingles  2023-03-26       235.901   \n",
       "1  677179                 Creed III          Ingles  2023-03-01      1537.879   \n",
       "2  726759                    Tetris          Ingles  2023-03-15        66.661   \n",
       "3   76600  Avatar: The Way of Water          Ingles  2022-12-14     10224.280   \n",
       "4  849869                       길복순         Koreano  2023-02-17        33.985   \n",
       "\n",
       "   media_dos_votos  qtds_votos tipo_de_midia  adulto  \n",
       "0            6.800         187         Filme   False  \n",
       "1            7.200         561         Filme   False  \n",
       "2            7.700         100         Filme   False  \n",
       "3            7.742        6335         Filme   False  \n",
       "4            6.900          39         Filme   False  "
      ]
     },
     "execution_count": 3,
     "metadata": {},
     "output_type": "execute_result"
    }
   ],
   "source": [
    "ds.head()"
   ]
  },
  {
   "cell_type": "code",
   "execution_count": 4,
   "id": "67e15aa4",
   "metadata": {},
   "outputs": [
    {
     "name": "stdout",
     "output_type": "stream",
     "text": [
      "O conjunto contem 20 linhas e 9 colunas.\n",
      "Quantidade de dados nulos:\n"
     ]
    },
    {
     "data": {
      "text/plain": [
       "id                 0\n",
       "titulo             5\n",
       "lingua_original    0\n",
       "lancamento         5\n",
       "popularidade       0\n",
       "media_dos_votos    0\n",
       "qtds_votos         0\n",
       "tipo_de_midia      0\n",
       "adulto             0\n",
       "dtype: int64"
      ]
     },
     "execution_count": 4,
     "metadata": {},
     "output_type": "execute_result"
    }
   ],
   "source": [
    "quant_lin_1, quant_colun_1 = ds.shape[0], ds.shape[1]\n",
    "print('O conjunto contem {} linhas e {} colunas.'.format(quant_lin_1, quant_colun_1))\n",
    "print('Quantidade de dados nulos:')\n",
    "quant_nul_1 = ds.isna().sum().sum()\n",
    "ds.isna().sum()"
   ]
  },
  {
   "cell_type": "code",
   "execution_count": 5,
   "id": "76ec1adb",
   "metadata": {},
   "outputs": [],
   "source": [
    "teste = ds.isna().sum()"
   ]
  },
  {
   "cell_type": "code",
   "execution_count": 6,
   "id": "3936c2be",
   "metadata": {},
   "outputs": [
    {
     "data": {
      "text/plain": [
       "pandas.core.series.Series"
      ]
     },
     "execution_count": 6,
     "metadata": {},
     "output_type": "execute_result"
    }
   ],
   "source": [
    "type(teste)"
   ]
  },
  {
   "cell_type": "code",
   "execution_count": 7,
   "id": "5cc1e30d",
   "metadata": {},
   "outputs": [],
   "source": [
    "ds.dropna(subset=[\"titulo\"], inplace=True)"
   ]
  },
  {
   "cell_type": "code",
   "execution_count": 8,
   "id": "18a44a51",
   "metadata": {},
   "outputs": [
    {
     "name": "stdout",
     "output_type": "stream",
     "text": [
      "O conjunto contem 15 linhas e 9 colunas.\n",
      "Quantidade de dados nulos:\n"
     ]
    },
    {
     "data": {
      "text/plain": [
       "id                 0\n",
       "titulo             0\n",
       "lingua_original    0\n",
       "lancamento         0\n",
       "popularidade       0\n",
       "media_dos_votos    0\n",
       "qtds_votos         0\n",
       "tipo_de_midia      0\n",
       "adulto             0\n",
       "dtype: int64"
      ]
     },
     "execution_count": 8,
     "metadata": {},
     "output_type": "execute_result"
    }
   ],
   "source": [
    "quant_lin_2, quant_colun_2 = ds.shape[0], ds.shape[1]\n",
    "print('O conjunto contem {} linhas e {} colunas.'.format(quant_lin_2, quant_colun_2))\n",
    "print('Quantidade de dados nulos:')\n",
    "quant_nul_2 = ds.isna().sum().sum()\n",
    "ds.isna().sum()"
   ]
  },
  {
   "cell_type": "code",
   "execution_count": 9,
   "id": "78cc17f2",
   "metadata": {},
   "outputs": [
    {
     "name": "stdout",
     "output_type": "stream",
     "text": [
      "Pré tratamento: 20 linhas e 9 Colunas e 10 dados nulos.\n",
      "Pós tratamento: 15 linhas e 9 Colunas e 0 dados nulos.\n"
     ]
    }
   ],
   "source": [
    "print('Pré tratamento: {} linhas e {} Colunas e {} dados nulos.'.format(quant_lin_1, quant_colun_1, quant_nul_1))\n",
    "print('Pós tratamento: {} linhas e {} Colunas e {} dados nulos.'.format(quant_lin_2, quant_colun_2, quant_nul_2))"
   ]
  },
  {
   "cell_type": "code",
   "execution_count": 10,
   "id": "f17d3d8b",
   "metadata": {},
   "outputs": [],
   "source": [
    "path = '../data/tendencias_sem_null.csv'\n",
    "ds.to_csv(path, sep=';', index=False)"
   ]
  },
  {
   "cell_type": "code",
   "execution_count": null,
   "id": "564192fe",
   "metadata": {},
   "outputs": [],
   "source": []
  }
 ],
 "metadata": {
  "kernelspec": {
   "display_name": "Python 3 (ipykernel)",
   "language": "python",
   "name": "python3"
  },
  "language_info": {
   "codemirror_mode": {
    "name": "ipython",
    "version": 3
   },
   "file_extension": ".py",
   "mimetype": "text/x-python",
   "name": "python",
   "nbconvert_exporter": "python",
   "pygments_lexer": "ipython3",
   "version": "3.11.2"
  }
 },
 "nbformat": 4,
 "nbformat_minor": 5
}
