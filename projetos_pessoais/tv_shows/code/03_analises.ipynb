{
 "cells": [
  {
   "cell_type": "markdown",
   "id": "65da3d63",
   "metadata": {},
   "source": [
    "# Analisando o conjunto dos dados de Series de TV\n",
    "link: https://www.kaggle.com/datasets/priyanshuganwani09/entertainment-movies-tv-shows-database\n",
    "<br><br>\n",
    "O conjunto de dados criado para prever a taxa de sucesso de programas de TV e filmes em streaming usando modelos de aprendizado de máquina. Esses conjuntos de dados consistem em informações dos usuários. Esses conjuntos de dados podem ser usados ​​para entender as preferências e o comportamento do público em relação a diferentes tipos de conteúdo."
   ]
  },
  {
   "cell_type": "markdown",
   "id": "16bf36b5",
   "metadata": {},
   "source": [
    "Perguntas a serem respondidas:<br>\n",
    "1 - Quais os filmes mais populares dos anos.<br>\n",
    "2 - Qual a Lingua mais presente no conjunto de dados.<br>\n",
    "3 - A quantidade de filmes por ano.<br>\n",
    "4 - A quantidade de filmes por lingua.<br>\n",
    "5 - A quantidade de filmes por ano e lingua.<br>\n",
    "6 - Comparar a popularidade das linguas dos filmes pelo tempo.<br>"
   ]
  },
  {
   "cell_type": "code",
   "execution_count": 115,
   "id": "9459e836",
   "metadata": {},
   "outputs": [],
   "source": [
    "import pandas as pd"
   ]
  },
  {
   "cell_type": "markdown",
   "id": "8114bf2f",
   "metadata": {},
   "source": [
    "## Importando dados"
   ]
  },
  {
   "cell_type": "code",
   "execution_count": 116,
   "id": "f7f502c3",
   "metadata": {},
   "outputs": [
    {
     "data": {
      "text/html": [
       "<div>\n",
       "<style scoped>\n",
       "    .dataframe tbody tr th:only-of-type {\n",
       "        vertical-align: middle;\n",
       "    }\n",
       "\n",
       "    .dataframe tbody tr th {\n",
       "        vertical-align: top;\n",
       "    }\n",
       "\n",
       "    .dataframe thead th {\n",
       "        text-align: right;\n",
       "    }\n",
       "</style>\n",
       "<table border=\"1\" class=\"dataframe\">\n",
       "  <thead>\n",
       "    <tr style=\"text-align: right;\">\n",
       "      <th></th>\n",
       "      <th>id</th>\n",
       "      <th>titulo</th>\n",
       "      <th>lingua_original</th>\n",
       "      <th>lancamento</th>\n",
       "      <th>popularidade</th>\n",
       "      <th>media_dos_votos</th>\n",
       "      <th>qtds_votos</th>\n",
       "      <th>tipo_de_midia</th>\n",
       "      <th>adulto</th>\n",
       "    </tr>\n",
       "  </thead>\n",
       "  <tbody>\n",
       "    <tr>\n",
       "      <th>0</th>\n",
       "      <td>638974</td>\n",
       "      <td>Murder Mystery 2</td>\n",
       "      <td>Ingles</td>\n",
       "      <td>2023-03-26</td>\n",
       "      <td>235.901</td>\n",
       "      <td>6.800</td>\n",
       "      <td>187</td>\n",
       "      <td>Filme</td>\n",
       "      <td>False</td>\n",
       "    </tr>\n",
       "    <tr>\n",
       "      <th>1</th>\n",
       "      <td>677179</td>\n",
       "      <td>Creed III</td>\n",
       "      <td>Ingles</td>\n",
       "      <td>2023-03-01</td>\n",
       "      <td>1537.879</td>\n",
       "      <td>7.200</td>\n",
       "      <td>561</td>\n",
       "      <td>Filme</td>\n",
       "      <td>False</td>\n",
       "    </tr>\n",
       "    <tr>\n",
       "      <th>2</th>\n",
       "      <td>726759</td>\n",
       "      <td>Tetris</td>\n",
       "      <td>Ingles</td>\n",
       "      <td>2023-03-15</td>\n",
       "      <td>66.661</td>\n",
       "      <td>7.700</td>\n",
       "      <td>100</td>\n",
       "      <td>Filme</td>\n",
       "      <td>False</td>\n",
       "    </tr>\n",
       "    <tr>\n",
       "      <th>3</th>\n",
       "      <td>76600</td>\n",
       "      <td>Avatar: The Way of Water</td>\n",
       "      <td>Ingles</td>\n",
       "      <td>2022-12-14</td>\n",
       "      <td>10224.280</td>\n",
       "      <td>7.742</td>\n",
       "      <td>6335</td>\n",
       "      <td>Filme</td>\n",
       "      <td>False</td>\n",
       "    </tr>\n",
       "    <tr>\n",
       "      <th>4</th>\n",
       "      <td>849869</td>\n",
       "      <td>길복순</td>\n",
       "      <td>Koreano</td>\n",
       "      <td>2023-02-17</td>\n",
       "      <td>33.985</td>\n",
       "      <td>6.900</td>\n",
       "      <td>39</td>\n",
       "      <td>Filme</td>\n",
       "      <td>False</td>\n",
       "    </tr>\n",
       "  </tbody>\n",
       "</table>\n",
       "</div>"
      ],
      "text/plain": [
       "       id                    titulo lingua_original  lancamento  popularidade  \\\n",
       "0  638974          Murder Mystery 2          Ingles  2023-03-26       235.901   \n",
       "1  677179                 Creed III          Ingles  2023-03-01      1537.879   \n",
       "2  726759                    Tetris          Ingles  2023-03-15        66.661   \n",
       "3   76600  Avatar: The Way of Water          Ingles  2022-12-14     10224.280   \n",
       "4  849869                       길복순         Koreano  2023-02-17        33.985   \n",
       "\n",
       "   media_dos_votos  qtds_votos tipo_de_midia  adulto  \n",
       "0            6.800         187         Filme   False  \n",
       "1            7.200         561         Filme   False  \n",
       "2            7.700         100         Filme   False  \n",
       "3            7.742        6335         Filme   False  \n",
       "4            6.900          39         Filme   False  "
      ]
     },
     "execution_count": 116,
     "metadata": {},
     "output_type": "execute_result"
    }
   ],
   "source": [
    "#Importando o arquivo\n",
    "file = '../data/tendencias_sem_null.csv'\n",
    "ds = pd.read_csv(file, sep=';')\n",
    "ds.head()"
   ]
  },
  {
   "cell_type": "code",
   "execution_count": 117,
   "id": "e6bb4bd6",
   "metadata": {},
   "outputs": [
    {
     "data": {
      "text/plain": [
       "(15, 9)"
      ]
     },
     "execution_count": 117,
     "metadata": {},
     "output_type": "execute_result"
    }
   ],
   "source": [
    "ds.shape"
   ]
  },
  {
   "cell_type": "markdown",
   "id": "b3b7465c",
   "metadata": {},
   "source": [
    "## Alterando os tipos dos dados"
   ]
  },
  {
   "cell_type": "code",
   "execution_count": 118,
   "id": "8fee52cc",
   "metadata": {},
   "outputs": [
    {
     "data": {
      "text/plain": [
       "id                   int64\n",
       "titulo              object\n",
       "lingua_original     object\n",
       "lancamento          object\n",
       "popularidade       float64\n",
       "media_dos_votos    float64\n",
       "qtds_votos           int64\n",
       "tipo_de_midia       object\n",
       "adulto                bool\n",
       "dtype: object"
      ]
     },
     "execution_count": 118,
     "metadata": {},
     "output_type": "execute_result"
    }
   ],
   "source": [
    "ds.dtypes"
   ]
  },
  {
   "cell_type": "code",
   "execution_count": 119,
   "id": "f2a2d273",
   "metadata": {},
   "outputs": [
    {
     "data": {
      "text/plain": [
       "id                          int64\n",
       "titulo                     object\n",
       "lingua_original            object\n",
       "lancamento         datetime64[ns]\n",
       "popularidade              float64\n",
       "media_dos_votos           float64\n",
       "qtds_votos                  int64\n",
       "tipo_de_midia              object\n",
       "adulto                       bool\n",
       "dtype: object"
      ]
     },
     "execution_count": 119,
     "metadata": {},
     "output_type": "execute_result"
    }
   ],
   "source": [
    "ds.lancamento = pd.to_datetime(ds.lancamento)\n",
    "ds.dtypes"
   ]
  },
  {
   "cell_type": "markdown",
   "id": "c4b3b836",
   "metadata": {},
   "source": [
    "## 1 - Quais os filmes mais populares dos anos?"
   ]
  },
  {
   "cell_type": "code",
   "execution_count": 120,
   "id": "6cd69d72",
   "metadata": {},
   "outputs": [],
   "source": [
    "import datetime"
   ]
  },
  {
   "cell_type": "code",
   "execution_count": 147,
   "id": "f1884805",
   "metadata": {},
   "outputs": [
    {
     "data": {
      "text/html": [
       "<div>\n",
       "<style scoped>\n",
       "    .dataframe tbody tr th:only-of-type {\n",
       "        vertical-align: middle;\n",
       "    }\n",
       "\n",
       "    .dataframe tbody tr th {\n",
       "        vertical-align: top;\n",
       "    }\n",
       "\n",
       "    .dataframe thead th {\n",
       "        text-align: right;\n",
       "    }\n",
       "</style>\n",
       "<table border=\"1\" class=\"dataframe\">\n",
       "  <thead>\n",
       "    <tr style=\"text-align: right;\">\n",
       "      <th></th>\n",
       "      <th>id</th>\n",
       "      <th>titulo</th>\n",
       "      <th>lingua_original</th>\n",
       "      <th>lancamento</th>\n",
       "      <th>popularidade</th>\n",
       "      <th>media_dos_votos</th>\n",
       "      <th>qtds_votos</th>\n",
       "      <th>tipo_de_midia</th>\n",
       "      <th>adulto</th>\n",
       "      <th>ano</th>\n",
       "    </tr>\n",
       "  </thead>\n",
       "  <tbody>\n",
       "    <tr>\n",
       "      <th>0</th>\n",
       "      <td>638974</td>\n",
       "      <td>Murder Mystery 2</td>\n",
       "      <td>Ingles</td>\n",
       "      <td>2023-03-26</td>\n",
       "      <td>235.901</td>\n",
       "      <td>6.800</td>\n",
       "      <td>187</td>\n",
       "      <td>Filme</td>\n",
       "      <td>False</td>\n",
       "      <td>2023</td>\n",
       "    </tr>\n",
       "    <tr>\n",
       "      <th>1</th>\n",
       "      <td>677179</td>\n",
       "      <td>Creed III</td>\n",
       "      <td>Ingles</td>\n",
       "      <td>2023-03-01</td>\n",
       "      <td>1537.879</td>\n",
       "      <td>7.200</td>\n",
       "      <td>561</td>\n",
       "      <td>Filme</td>\n",
       "      <td>False</td>\n",
       "      <td>2023</td>\n",
       "    </tr>\n",
       "    <tr>\n",
       "      <th>2</th>\n",
       "      <td>726759</td>\n",
       "      <td>Tetris</td>\n",
       "      <td>Ingles</td>\n",
       "      <td>2023-03-15</td>\n",
       "      <td>66.661</td>\n",
       "      <td>7.700</td>\n",
       "      <td>100</td>\n",
       "      <td>Filme</td>\n",
       "      <td>False</td>\n",
       "      <td>2023</td>\n",
       "    </tr>\n",
       "    <tr>\n",
       "      <th>3</th>\n",
       "      <td>76600</td>\n",
       "      <td>Avatar: The Way of Water</td>\n",
       "      <td>Ingles</td>\n",
       "      <td>2022-12-14</td>\n",
       "      <td>10224.280</td>\n",
       "      <td>7.742</td>\n",
       "      <td>6335</td>\n",
       "      <td>Filme</td>\n",
       "      <td>False</td>\n",
       "      <td>2022</td>\n",
       "    </tr>\n",
       "    <tr>\n",
       "      <th>4</th>\n",
       "      <td>849869</td>\n",
       "      <td>길복순</td>\n",
       "      <td>Koreano</td>\n",
       "      <td>2023-02-17</td>\n",
       "      <td>33.985</td>\n",
       "      <td>6.900</td>\n",
       "      <td>39</td>\n",
       "      <td>Filme</td>\n",
       "      <td>False</td>\n",
       "      <td>2023</td>\n",
       "    </tr>\n",
       "  </tbody>\n",
       "</table>\n",
       "</div>"
      ],
      "text/plain": [
       "       id                    titulo lingua_original lancamento  popularidade  \\\n",
       "0  638974          Murder Mystery 2          Ingles 2023-03-26       235.901   \n",
       "1  677179                 Creed III          Ingles 2023-03-01      1537.879   \n",
       "2  726759                    Tetris          Ingles 2023-03-15        66.661   \n",
       "3   76600  Avatar: The Way of Water          Ingles 2022-12-14     10224.280   \n",
       "4  849869                       길복순         Koreano 2023-02-17        33.985   \n",
       "\n",
       "   media_dos_votos  qtds_votos tipo_de_midia  adulto   ano  \n",
       "0            6.800         187         Filme   False  2023  \n",
       "1            7.200         561         Filme   False  2023  \n",
       "2            7.700         100         Filme   False  2023  \n",
       "3            7.742        6335         Filme   False  2022  \n",
       "4            6.900          39         Filme   False  2023  "
      ]
     },
     "execution_count": 147,
     "metadata": {},
     "output_type": "execute_result"
    }
   ],
   "source": [
    "ds['ano'] = ds.lancamento.dt.year\n",
    "ds.head()"
   ]
  },
  {
   "cell_type": "code",
   "execution_count": 148,
   "id": "0b55055a",
   "metadata": {},
   "outputs": [
    {
     "data": {
      "text/html": [
       "<div>\n",
       "<style scoped>\n",
       "    .dataframe tbody tr th:only-of-type {\n",
       "        vertical-align: middle;\n",
       "    }\n",
       "\n",
       "    .dataframe tbody tr th {\n",
       "        vertical-align: top;\n",
       "    }\n",
       "\n",
       "    .dataframe thead th {\n",
       "        text-align: right;\n",
       "    }\n",
       "</style>\n",
       "<table border=\"1\" class=\"dataframe\">\n",
       "  <thead>\n",
       "    <tr style=\"text-align: right;\">\n",
       "      <th></th>\n",
       "      <th>id</th>\n",
       "      <th>titulo</th>\n",
       "      <th>popularidade</th>\n",
       "      <th>ano</th>\n",
       "    </tr>\n",
       "  </thead>\n",
       "  <tbody>\n",
       "    <tr>\n",
       "      <th>5</th>\n",
       "      <td>603692</td>\n",
       "      <td>John Wick: Chapter 4</td>\n",
       "      <td>2569.508</td>\n",
       "      <td>2023</td>\n",
       "    </tr>\n",
       "    <tr>\n",
       "      <th>3</th>\n",
       "      <td>76600</td>\n",
       "      <td>Avatar: The Way of Water</td>\n",
       "      <td>10224.280</td>\n",
       "      <td>2022</td>\n",
       "    </tr>\n",
       "    <tr>\n",
       "      <th>9</th>\n",
       "      <td>514999</td>\n",
       "      <td>Murder Mystery</td>\n",
       "      <td>197.421</td>\n",
       "      <td>2019</td>\n",
       "    </tr>\n",
       "  </tbody>\n",
       "</table>\n",
       "</div>"
      ],
      "text/plain": [
       "       id                    titulo  popularidade   ano\n",
       "5  603692      John Wick: Chapter 4      2569.508  2023\n",
       "3   76600  Avatar: The Way of Water     10224.280  2022\n",
       "9  514999            Murder Mystery       197.421  2019"
      ]
     },
     "execution_count": 148,
     "metadata": {},
     "output_type": "execute_result"
    }
   ],
   "source": [
    "maior = []\n",
    "for ano in ds_populares_ano.ano.unique():\n",
    "    selecao = ds_populares_ano[ds_populares_ano.ano == ano]\n",
    "    popularidade = selecao.popularidade.tolist()\n",
    "    index = popularidade.index(max(popularidade))\n",
    "    tupla = selecao.iloc[index]\n",
    "    maior.append(tupla)\n",
    "    maior\n",
    "ds_populares_ano = pd.DataFrame(maior)\n",
    "ds_populares_ano"
   ]
  },
  {
   "cell_type": "code",
   "execution_count": null,
   "id": "6e6955e2",
   "metadata": {},
   "outputs": [],
   "source": []
  }
 ],
 "metadata": {
  "kernelspec": {
   "display_name": "Python 3 (ipykernel)",
   "language": "python",
   "name": "python3"
  },
  "language_info": {
   "codemirror_mode": {
    "name": "ipython",
    "version": 3
   },
   "file_extension": ".py",
   "mimetype": "text/x-python",
   "name": "python",
   "nbconvert_exporter": "python",
   "pygments_lexer": "ipython3",
   "version": "3.11.2"
  }
 },
 "nbformat": 4,
 "nbformat_minor": 5
}
