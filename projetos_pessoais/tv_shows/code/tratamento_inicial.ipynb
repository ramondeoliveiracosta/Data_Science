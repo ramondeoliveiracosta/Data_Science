{
 "cells": [
  {
   "cell_type": "markdown",
   "id": "65da3d63",
   "metadata": {},
   "source": [
    "# Tratamento do conjunto de dados de Series de TV\n",
    "link: https://www.kaggle.com/datasets/priyanshuganwani09/entertainment-movies-tv-shows-database\n",
    "<br><br>\n",
    "O conjunto de dados criado para prever a taxa de sucesso de programas de TV e filmes em streaming usando modelos de aprendizado de máquina. Esses conjuntos de dados consistem em informações dos usuários. Esses conjuntos de dados podem ser usados ​​para entender as preferências e o comportamento do público em relação a diferentes tipos de conteúdo."
   ]
  },
  {
   "cell_type": "code",
   "execution_count": 1,
   "id": "9459e836",
   "metadata": {},
   "outputs": [],
   "source": [
    "import pandas as pd"
   ]
  },
  {
   "cell_type": "markdown",
   "id": "8114bf2f",
   "metadata": {},
   "source": [
    "## Tradução"
   ]
  },
  {
   "cell_type": "code",
   "execution_count": 2,
   "id": "f7f502c3",
   "metadata": {},
   "outputs": [
    {
     "data": {
      "text/html": [
       "<div>\n",
       "<style scoped>\n",
       "    .dataframe tbody tr th:only-of-type {\n",
       "        vertical-align: middle;\n",
       "    }\n",
       "\n",
       "    .dataframe tbody tr th {\n",
       "        vertical-align: top;\n",
       "    }\n",
       "\n",
       "    .dataframe thead th {\n",
       "        text-align: right;\n",
       "    }\n",
       "</style>\n",
       "<table border=\"1\" class=\"dataframe\">\n",
       "  <thead>\n",
       "    <tr style=\"text-align: right;\">\n",
       "      <th></th>\n",
       "      <th>id</th>\n",
       "      <th>original_title</th>\n",
       "      <th>original_language</th>\n",
       "      <th>release_date</th>\n",
       "      <th>popularity</th>\n",
       "      <th>vote_average</th>\n",
       "      <th>vote_count</th>\n",
       "      <th>media_type</th>\n",
       "      <th>adult</th>\n",
       "    </tr>\n",
       "  </thead>\n",
       "  <tbody>\n",
       "    <tr>\n",
       "      <th>0</th>\n",
       "      <td>638974</td>\n",
       "      <td>Murder Mystery 2</td>\n",
       "      <td>English</td>\n",
       "      <td>2023-03-26</td>\n",
       "      <td>235.901</td>\n",
       "      <td>6.800</td>\n",
       "      <td>187</td>\n",
       "      <td>movie</td>\n",
       "      <td>False</td>\n",
       "    </tr>\n",
       "    <tr>\n",
       "      <th>1</th>\n",
       "      <td>677179</td>\n",
       "      <td>Creed III</td>\n",
       "      <td>English</td>\n",
       "      <td>2023-03-01</td>\n",
       "      <td>1537.879</td>\n",
       "      <td>7.200</td>\n",
       "      <td>561</td>\n",
       "      <td>movie</td>\n",
       "      <td>False</td>\n",
       "    </tr>\n",
       "    <tr>\n",
       "      <th>2</th>\n",
       "      <td>726759</td>\n",
       "      <td>Tetris</td>\n",
       "      <td>English</td>\n",
       "      <td>2023-03-15</td>\n",
       "      <td>66.661</td>\n",
       "      <td>7.700</td>\n",
       "      <td>100</td>\n",
       "      <td>movie</td>\n",
       "      <td>False</td>\n",
       "    </tr>\n",
       "    <tr>\n",
       "      <th>3</th>\n",
       "      <td>76600</td>\n",
       "      <td>Avatar: The Way of Water</td>\n",
       "      <td>English</td>\n",
       "      <td>2022-12-14</td>\n",
       "      <td>10224.280</td>\n",
       "      <td>7.742</td>\n",
       "      <td>6335</td>\n",
       "      <td>movie</td>\n",
       "      <td>False</td>\n",
       "    </tr>\n",
       "    <tr>\n",
       "      <th>4</th>\n",
       "      <td>849869</td>\n",
       "      <td>길복순</td>\n",
       "      <td>Korean</td>\n",
       "      <td>2023-02-17</td>\n",
       "      <td>33.985</td>\n",
       "      <td>6.900</td>\n",
       "      <td>39</td>\n",
       "      <td>movie</td>\n",
       "      <td>False</td>\n",
       "    </tr>\n",
       "  </tbody>\n",
       "</table>\n",
       "</div>"
      ],
      "text/plain": [
       "       id            original_title original_language release_date  \\\n",
       "0  638974          Murder Mystery 2           English   2023-03-26   \n",
       "1  677179                 Creed III           English   2023-03-01   \n",
       "2  726759                    Tetris           English   2023-03-15   \n",
       "3   76600  Avatar: The Way of Water           English   2022-12-14   \n",
       "4  849869                       길복순            Korean   2023-02-17   \n",
       "\n",
       "   popularity  vote_average  vote_count media_type  adult  \n",
       "0     235.901         6.800         187      movie  False  \n",
       "1    1537.879         7.200         561      movie  False  \n",
       "2      66.661         7.700         100      movie  False  \n",
       "3   10224.280         7.742        6335      movie  False  \n",
       "4      33.985         6.900          39      movie  False  "
      ]
     },
     "execution_count": 2,
     "metadata": {},
     "output_type": "execute_result"
    }
   ],
   "source": [
    "#Importando o arquivo\n",
    "file = '../data/trending.csv'\n",
    "ds = pd.read_csv(file)\n",
    "ds.drop(ds.columns[0], axis='columns', inplace=True)\n",
    "ds.head()"
   ]
  },
  {
   "cell_type": "markdown",
   "id": "f8379c44",
   "metadata": {},
   "source": [
    "### Nome das colunas"
   ]
  },
  {
   "cell_type": "code",
   "execution_count": 3,
   "id": "fa8bf070",
   "metadata": {},
   "outputs": [
    {
     "data": {
      "text/plain": [
       "Index(['id', 'original_title', 'original_language', 'release_date',\n",
       "       'popularity', 'vote_average', 'vote_count', 'media_type', 'adult'],\n",
       "      dtype='object')"
      ]
     },
     "execution_count": 3,
     "metadata": {},
     "output_type": "execute_result"
    }
   ],
   "source": [
    "ds.columns"
   ]
  },
  {
   "cell_type": "code",
   "execution_count": 4,
   "id": "af7247ef",
   "metadata": {},
   "outputs": [
    {
     "data": {
      "text/html": [
       "<div>\n",
       "<style scoped>\n",
       "    .dataframe tbody tr th:only-of-type {\n",
       "        vertical-align: middle;\n",
       "    }\n",
       "\n",
       "    .dataframe tbody tr th {\n",
       "        vertical-align: top;\n",
       "    }\n",
       "\n",
       "    .dataframe thead th {\n",
       "        text-align: right;\n",
       "    }\n",
       "</style>\n",
       "<table border=\"1\" class=\"dataframe\">\n",
       "  <thead>\n",
       "    <tr style=\"text-align: right;\">\n",
       "      <th></th>\n",
       "      <th>id</th>\n",
       "      <th>titulo</th>\n",
       "      <th>lingua_original</th>\n",
       "      <th>lancamento</th>\n",
       "      <th>popularidade</th>\n",
       "      <th>media_dos_votos</th>\n",
       "      <th>qtds_votos</th>\n",
       "      <th>tipo_de_midia</th>\n",
       "      <th>adulto</th>\n",
       "    </tr>\n",
       "  </thead>\n",
       "  <tbody>\n",
       "    <tr>\n",
       "      <th>0</th>\n",
       "      <td>638974</td>\n",
       "      <td>Murder Mystery 2</td>\n",
       "      <td>English</td>\n",
       "      <td>2023-03-26</td>\n",
       "      <td>235.901</td>\n",
       "      <td>6.800</td>\n",
       "      <td>187</td>\n",
       "      <td>movie</td>\n",
       "      <td>False</td>\n",
       "    </tr>\n",
       "    <tr>\n",
       "      <th>1</th>\n",
       "      <td>677179</td>\n",
       "      <td>Creed III</td>\n",
       "      <td>English</td>\n",
       "      <td>2023-03-01</td>\n",
       "      <td>1537.879</td>\n",
       "      <td>7.200</td>\n",
       "      <td>561</td>\n",
       "      <td>movie</td>\n",
       "      <td>False</td>\n",
       "    </tr>\n",
       "    <tr>\n",
       "      <th>2</th>\n",
       "      <td>726759</td>\n",
       "      <td>Tetris</td>\n",
       "      <td>English</td>\n",
       "      <td>2023-03-15</td>\n",
       "      <td>66.661</td>\n",
       "      <td>7.700</td>\n",
       "      <td>100</td>\n",
       "      <td>movie</td>\n",
       "      <td>False</td>\n",
       "    </tr>\n",
       "    <tr>\n",
       "      <th>3</th>\n",
       "      <td>76600</td>\n",
       "      <td>Avatar: The Way of Water</td>\n",
       "      <td>English</td>\n",
       "      <td>2022-12-14</td>\n",
       "      <td>10224.280</td>\n",
       "      <td>7.742</td>\n",
       "      <td>6335</td>\n",
       "      <td>movie</td>\n",
       "      <td>False</td>\n",
       "    </tr>\n",
       "    <tr>\n",
       "      <th>4</th>\n",
       "      <td>849869</td>\n",
       "      <td>길복순</td>\n",
       "      <td>Korean</td>\n",
       "      <td>2023-02-17</td>\n",
       "      <td>33.985</td>\n",
       "      <td>6.900</td>\n",
       "      <td>39</td>\n",
       "      <td>movie</td>\n",
       "      <td>False</td>\n",
       "    </tr>\n",
       "  </tbody>\n",
       "</table>\n",
       "</div>"
      ],
      "text/plain": [
       "       id                    titulo lingua_original  lancamento  popularidade  \\\n",
       "0  638974          Murder Mystery 2         English  2023-03-26       235.901   \n",
       "1  677179                 Creed III         English  2023-03-01      1537.879   \n",
       "2  726759                    Tetris         English  2023-03-15        66.661   \n",
       "3   76600  Avatar: The Way of Water         English  2022-12-14     10224.280   \n",
       "4  849869                       길복순          Korean  2023-02-17        33.985   \n",
       "\n",
       "   media_dos_votos  qtds_votos tipo_de_midia  adulto  \n",
       "0            6.800         187         movie   False  \n",
       "1            7.200         561         movie   False  \n",
       "2            7.700         100         movie   False  \n",
       "3            7.742        6335         movie   False  \n",
       "4            6.900          39         movie   False  "
      ]
     },
     "execution_count": 4,
     "metadata": {},
     "output_type": "execute_result"
    }
   ],
   "source": [
    "rename = {\n",
    "    'id': 'id',\n",
    "    'original_title': 'titulo',\n",
    "    'original_language': 'lingua_original',\n",
    "    'release_date': 'lancamento',\n",
    "    'popularity' : 'popularidade',\n",
    "    'vote_average' : 'media_dos_votos',\n",
    "    'vote_count' : 'qtds_votos',\n",
    "    'media_type': 'tipo_de_midia',\n",
    "    'adult': 'adulto'\n",
    "}\n",
    "ds.rename(columns=rename, inplace=True)\n",
    "ds.head()"
   ]
  },
  {
   "cell_type": "markdown",
   "id": "45e4ac76",
   "metadata": {},
   "source": [
    "### Coluna \"lingua_original\""
   ]
  },
  {
   "cell_type": "code",
   "execution_count": 5,
   "id": "249c4c1b",
   "metadata": {},
   "outputs": [
    {
     "data": {
      "text/plain": [
       "array(['English', 'Korean', 'Spain', 'Chinese', 'Japanese'], dtype=object)"
      ]
     },
     "execution_count": 5,
     "metadata": {},
     "output_type": "execute_result"
    }
   ],
   "source": [
    "ds.lingua_original.unique()"
   ]
  },
  {
   "cell_type": "code",
   "execution_count": 6,
   "id": "d2134b89",
   "metadata": {},
   "outputs": [
    {
     "data": {
      "text/html": [
       "<div>\n",
       "<style scoped>\n",
       "    .dataframe tbody tr th:only-of-type {\n",
       "        vertical-align: middle;\n",
       "    }\n",
       "\n",
       "    .dataframe tbody tr th {\n",
       "        vertical-align: top;\n",
       "    }\n",
       "\n",
       "    .dataframe thead th {\n",
       "        text-align: right;\n",
       "    }\n",
       "</style>\n",
       "<table border=\"1\" class=\"dataframe\">\n",
       "  <thead>\n",
       "    <tr style=\"text-align: right;\">\n",
       "      <th></th>\n",
       "      <th>id</th>\n",
       "      <th>titulo</th>\n",
       "      <th>lingua_original</th>\n",
       "      <th>lancamento</th>\n",
       "      <th>popularidade</th>\n",
       "      <th>media_dos_votos</th>\n",
       "      <th>qtds_votos</th>\n",
       "      <th>tipo_de_midia</th>\n",
       "      <th>adulto</th>\n",
       "    </tr>\n",
       "  </thead>\n",
       "  <tbody>\n",
       "    <tr>\n",
       "      <th>0</th>\n",
       "      <td>638974</td>\n",
       "      <td>Murder Mystery 2</td>\n",
       "      <td>Ingles</td>\n",
       "      <td>2023-03-26</td>\n",
       "      <td>235.901</td>\n",
       "      <td>6.800</td>\n",
       "      <td>187</td>\n",
       "      <td>movie</td>\n",
       "      <td>False</td>\n",
       "    </tr>\n",
       "    <tr>\n",
       "      <th>1</th>\n",
       "      <td>677179</td>\n",
       "      <td>Creed III</td>\n",
       "      <td>Ingles</td>\n",
       "      <td>2023-03-01</td>\n",
       "      <td>1537.879</td>\n",
       "      <td>7.200</td>\n",
       "      <td>561</td>\n",
       "      <td>movie</td>\n",
       "      <td>False</td>\n",
       "    </tr>\n",
       "    <tr>\n",
       "      <th>2</th>\n",
       "      <td>726759</td>\n",
       "      <td>Tetris</td>\n",
       "      <td>Ingles</td>\n",
       "      <td>2023-03-15</td>\n",
       "      <td>66.661</td>\n",
       "      <td>7.700</td>\n",
       "      <td>100</td>\n",
       "      <td>movie</td>\n",
       "      <td>False</td>\n",
       "    </tr>\n",
       "    <tr>\n",
       "      <th>3</th>\n",
       "      <td>76600</td>\n",
       "      <td>Avatar: The Way of Water</td>\n",
       "      <td>Ingles</td>\n",
       "      <td>2022-12-14</td>\n",
       "      <td>10224.280</td>\n",
       "      <td>7.742</td>\n",
       "      <td>6335</td>\n",
       "      <td>movie</td>\n",
       "      <td>False</td>\n",
       "    </tr>\n",
       "    <tr>\n",
       "      <th>4</th>\n",
       "      <td>849869</td>\n",
       "      <td>길복순</td>\n",
       "      <td>Koreano</td>\n",
       "      <td>2023-02-17</td>\n",
       "      <td>33.985</td>\n",
       "      <td>6.900</td>\n",
       "      <td>39</td>\n",
       "      <td>movie</td>\n",
       "      <td>False</td>\n",
       "    </tr>\n",
       "  </tbody>\n",
       "</table>\n",
       "</div>"
      ],
      "text/plain": [
       "       id                    titulo lingua_original  lancamento  popularidade  \\\n",
       "0  638974          Murder Mystery 2          Ingles  2023-03-26       235.901   \n",
       "1  677179                 Creed III          Ingles  2023-03-01      1537.879   \n",
       "2  726759                    Tetris          Ingles  2023-03-15        66.661   \n",
       "3   76600  Avatar: The Way of Water          Ingles  2022-12-14     10224.280   \n",
       "4  849869                       길복순         Koreano  2023-02-17        33.985   \n",
       "\n",
       "   media_dos_votos  qtds_votos tipo_de_midia  adulto  \n",
       "0            6.800         187         movie   False  \n",
       "1            7.200         561         movie   False  \n",
       "2            7.700         100         movie   False  \n",
       "3            7.742        6335         movie   False  \n",
       "4            6.900          39         movie   False  "
      ]
     },
     "execution_count": 6,
     "metadata": {},
     "output_type": "execute_result"
    }
   ],
   "source": [
    "rename = {\n",
    "    'English' : 'Ingles',\n",
    "    'Korean' : 'Koreano',\n",
    "    'Spain' : 'Espanhol' ,\n",
    "    'Chinese' : 'Chines',\n",
    "    'Japanese' : 'Japones'    \n",
    "}\n",
    "ds.lingua_original = ds.lingua_original.map(rename)\n",
    "ds.head()"
   ]
  },
  {
   "cell_type": "code",
   "execution_count": 7,
   "id": "37086b0f",
   "metadata": {},
   "outputs": [
    {
     "data": {
      "text/plain": [
       "array(['Ingles', 'Koreano', 'Espanhol', 'Chines', 'Japones'], dtype=object)"
      ]
     },
     "execution_count": 7,
     "metadata": {},
     "output_type": "execute_result"
    }
   ],
   "source": [
    "ds.lingua_original.unique()"
   ]
  },
  {
   "cell_type": "markdown",
   "id": "c8b2a30b",
   "metadata": {},
   "source": [
    "### Coluna \"tipo_de_midia\""
   ]
  },
  {
   "cell_type": "code",
   "execution_count": 8,
   "id": "295fc20f",
   "metadata": {},
   "outputs": [
    {
     "data": {
      "text/plain": [
       "array(['movie', 'tv'], dtype=object)"
      ]
     },
     "execution_count": 8,
     "metadata": {},
     "output_type": "execute_result"
    }
   ],
   "source": [
    "ds.tipo_de_midia.unique()"
   ]
  },
  {
   "cell_type": "code",
   "execution_count": 9,
   "id": "2063549d",
   "metadata": {},
   "outputs": [
    {
     "data": {
      "text/html": [
       "<div>\n",
       "<style scoped>\n",
       "    .dataframe tbody tr th:only-of-type {\n",
       "        vertical-align: middle;\n",
       "    }\n",
       "\n",
       "    .dataframe tbody tr th {\n",
       "        vertical-align: top;\n",
       "    }\n",
       "\n",
       "    .dataframe thead th {\n",
       "        text-align: right;\n",
       "    }\n",
       "</style>\n",
       "<table border=\"1\" class=\"dataframe\">\n",
       "  <thead>\n",
       "    <tr style=\"text-align: right;\">\n",
       "      <th></th>\n",
       "      <th>id</th>\n",
       "      <th>titulo</th>\n",
       "      <th>lingua_original</th>\n",
       "      <th>lancamento</th>\n",
       "      <th>popularidade</th>\n",
       "      <th>media_dos_votos</th>\n",
       "      <th>qtds_votos</th>\n",
       "      <th>tipo_de_midia</th>\n",
       "      <th>adulto</th>\n",
       "    </tr>\n",
       "  </thead>\n",
       "  <tbody>\n",
       "    <tr>\n",
       "      <th>0</th>\n",
       "      <td>638974</td>\n",
       "      <td>Murder Mystery 2</td>\n",
       "      <td>Ingles</td>\n",
       "      <td>2023-03-26</td>\n",
       "      <td>235.901</td>\n",
       "      <td>6.800</td>\n",
       "      <td>187</td>\n",
       "      <td>Filme</td>\n",
       "      <td>False</td>\n",
       "    </tr>\n",
       "    <tr>\n",
       "      <th>1</th>\n",
       "      <td>677179</td>\n",
       "      <td>Creed III</td>\n",
       "      <td>Ingles</td>\n",
       "      <td>2023-03-01</td>\n",
       "      <td>1537.879</td>\n",
       "      <td>7.200</td>\n",
       "      <td>561</td>\n",
       "      <td>Filme</td>\n",
       "      <td>False</td>\n",
       "    </tr>\n",
       "    <tr>\n",
       "      <th>2</th>\n",
       "      <td>726759</td>\n",
       "      <td>Tetris</td>\n",
       "      <td>Ingles</td>\n",
       "      <td>2023-03-15</td>\n",
       "      <td>66.661</td>\n",
       "      <td>7.700</td>\n",
       "      <td>100</td>\n",
       "      <td>Filme</td>\n",
       "      <td>False</td>\n",
       "    </tr>\n",
       "    <tr>\n",
       "      <th>3</th>\n",
       "      <td>76600</td>\n",
       "      <td>Avatar: The Way of Water</td>\n",
       "      <td>Ingles</td>\n",
       "      <td>2022-12-14</td>\n",
       "      <td>10224.280</td>\n",
       "      <td>7.742</td>\n",
       "      <td>6335</td>\n",
       "      <td>Filme</td>\n",
       "      <td>False</td>\n",
       "    </tr>\n",
       "    <tr>\n",
       "      <th>4</th>\n",
       "      <td>849869</td>\n",
       "      <td>길복순</td>\n",
       "      <td>Koreano</td>\n",
       "      <td>2023-02-17</td>\n",
       "      <td>33.985</td>\n",
       "      <td>6.900</td>\n",
       "      <td>39</td>\n",
       "      <td>Filme</td>\n",
       "      <td>False</td>\n",
       "    </tr>\n",
       "  </tbody>\n",
       "</table>\n",
       "</div>"
      ],
      "text/plain": [
       "       id                    titulo lingua_original  lancamento  popularidade  \\\n",
       "0  638974          Murder Mystery 2          Ingles  2023-03-26       235.901   \n",
       "1  677179                 Creed III          Ingles  2023-03-01      1537.879   \n",
       "2  726759                    Tetris          Ingles  2023-03-15        66.661   \n",
       "3   76600  Avatar: The Way of Water          Ingles  2022-12-14     10224.280   \n",
       "4  849869                       길복순         Koreano  2023-02-17        33.985   \n",
       "\n",
       "   media_dos_votos  qtds_votos tipo_de_midia  adulto  \n",
       "0            6.800         187         Filme   False  \n",
       "1            7.200         561         Filme   False  \n",
       "2            7.700         100         Filme   False  \n",
       "3            7.742        6335         Filme   False  \n",
       "4            6.900          39         Filme   False  "
      ]
     },
     "execution_count": 9,
     "metadata": {},
     "output_type": "execute_result"
    }
   ],
   "source": [
    "rename = {\n",
    "    'movie' : 'Filme',\n",
    "    'tv' : 'Tv'    \n",
    "}\n",
    "ds.tipo_de_midia = ds.tipo_de_midia.map(rename)\n",
    "ds.head()"
   ]
  },
  {
   "cell_type": "code",
   "execution_count": 10,
   "id": "f0f8fdfd",
   "metadata": {},
   "outputs": [
    {
     "data": {
      "text/plain": [
       "array(['Filme', 'Tv'], dtype=object)"
      ]
     },
     "execution_count": 10,
     "metadata": {},
     "output_type": "execute_result"
    }
   ],
   "source": [
    "ds.tipo_de_midia.unique()"
   ]
  },
  {
   "cell_type": "code",
   "execution_count": 11,
   "id": "3e2daf00",
   "metadata": {},
   "outputs": [
    {
     "data": {
      "text/html": [
       "<div>\n",
       "<style scoped>\n",
       "    .dataframe tbody tr th:only-of-type {\n",
       "        vertical-align: middle;\n",
       "    }\n",
       "\n",
       "    .dataframe tbody tr th {\n",
       "        vertical-align: top;\n",
       "    }\n",
       "\n",
       "    .dataframe thead th {\n",
       "        text-align: right;\n",
       "    }\n",
       "</style>\n",
       "<table border=\"1\" class=\"dataframe\">\n",
       "  <thead>\n",
       "    <tr style=\"text-align: right;\">\n",
       "      <th></th>\n",
       "      <th>id</th>\n",
       "      <th>titulo</th>\n",
       "      <th>lingua_original</th>\n",
       "      <th>lancamento</th>\n",
       "      <th>popularidade</th>\n",
       "      <th>media_dos_votos</th>\n",
       "      <th>qtds_votos</th>\n",
       "      <th>tipo_de_midia</th>\n",
       "      <th>adulto</th>\n",
       "    </tr>\n",
       "  </thead>\n",
       "  <tbody>\n",
       "    <tr>\n",
       "      <th>0</th>\n",
       "      <td>638974</td>\n",
       "      <td>Murder Mystery 2</td>\n",
       "      <td>Ingles</td>\n",
       "      <td>2023-03-26</td>\n",
       "      <td>235.901</td>\n",
       "      <td>6.800</td>\n",
       "      <td>187</td>\n",
       "      <td>Filme</td>\n",
       "      <td>False</td>\n",
       "    </tr>\n",
       "    <tr>\n",
       "      <th>1</th>\n",
       "      <td>677179</td>\n",
       "      <td>Creed III</td>\n",
       "      <td>Ingles</td>\n",
       "      <td>2023-03-01</td>\n",
       "      <td>1537.879</td>\n",
       "      <td>7.200</td>\n",
       "      <td>561</td>\n",
       "      <td>Filme</td>\n",
       "      <td>False</td>\n",
       "    </tr>\n",
       "    <tr>\n",
       "      <th>2</th>\n",
       "      <td>726759</td>\n",
       "      <td>Tetris</td>\n",
       "      <td>Ingles</td>\n",
       "      <td>2023-03-15</td>\n",
       "      <td>66.661</td>\n",
       "      <td>7.700</td>\n",
       "      <td>100</td>\n",
       "      <td>Filme</td>\n",
       "      <td>False</td>\n",
       "    </tr>\n",
       "    <tr>\n",
       "      <th>3</th>\n",
       "      <td>76600</td>\n",
       "      <td>Avatar: The Way of Water</td>\n",
       "      <td>Ingles</td>\n",
       "      <td>2022-12-14</td>\n",
       "      <td>10224.280</td>\n",
       "      <td>7.742</td>\n",
       "      <td>6335</td>\n",
       "      <td>Filme</td>\n",
       "      <td>False</td>\n",
       "    </tr>\n",
       "    <tr>\n",
       "      <th>4</th>\n",
       "      <td>849869</td>\n",
       "      <td>길복순</td>\n",
       "      <td>Koreano</td>\n",
       "      <td>2023-02-17</td>\n",
       "      <td>33.985</td>\n",
       "      <td>6.900</td>\n",
       "      <td>39</td>\n",
       "      <td>Filme</td>\n",
       "      <td>False</td>\n",
       "    </tr>\n",
       "  </tbody>\n",
       "</table>\n",
       "</div>"
      ],
      "text/plain": [
       "       id                    titulo lingua_original  lancamento  popularidade  \\\n",
       "0  638974          Murder Mystery 2          Ingles  2023-03-26       235.901   \n",
       "1  677179                 Creed III          Ingles  2023-03-01      1537.879   \n",
       "2  726759                    Tetris          Ingles  2023-03-15        66.661   \n",
       "3   76600  Avatar: The Way of Water          Ingles  2022-12-14     10224.280   \n",
       "4  849869                       길복순         Koreano  2023-02-17        33.985   \n",
       "\n",
       "   media_dos_votos  qtds_votos tipo_de_midia  adulto  \n",
       "0            6.800         187         Filme   False  \n",
       "1            7.200         561         Filme   False  \n",
       "2            7.700         100         Filme   False  \n",
       "3            7.742        6335         Filme   False  \n",
       "4            6.900          39         Filme   False  "
      ]
     },
     "execution_count": 11,
     "metadata": {},
     "output_type": "execute_result"
    }
   ],
   "source": [
    "ds.head()"
   ]
  },
  {
   "cell_type": "markdown",
   "id": "984e9c53",
   "metadata": {},
   "source": [
    "## Alterando os tipos de dados"
   ]
  },
  {
   "cell_type": "code",
   "execution_count": null,
   "id": "b75104cc",
   "metadata": {},
   "outputs": [],
   "source": [
    "ds.dtypes"
   ]
  },
  {
   "cell_type": "code",
   "execution_count": null,
   "id": "5bb36236",
   "metadata": {},
   "outputs": [],
   "source": [
    "ds.lancamento = pd.to_datetime(ds.lancamento)\n",
    "ds.head()"
   ]
  },
  {
   "cell_type": "code",
   "execution_count": null,
   "id": "e2385d7e",
   "metadata": {},
   "outputs": [],
   "source": [
    "ds.dtypes"
   ]
  },
  {
   "cell_type": "markdown",
   "id": "13835b4b",
   "metadata": {},
   "source": [
    "## Salvando o dataset tratado"
   ]
  },
  {
   "cell_type": "code",
   "execution_count": 13,
   "id": "5ba6dee4",
   "metadata": {},
   "outputs": [],
   "source": [
    "path = '../data/tendencias.csv'\n",
    "ds.to_csv(path)"
   ]
  },
  {
   "cell_type": "code",
   "execution_count": null,
   "id": "9c2c663c",
   "metadata": {},
   "outputs": [],
   "source": []
  }
 ],
 "metadata": {
  "kernelspec": {
   "display_name": "Python 3 (ipykernel)",
   "language": "python",
   "name": "python3"
  },
  "language_info": {
   "codemirror_mode": {
    "name": "ipython",
    "version": 3
   },
   "file_extension": ".py",
   "mimetype": "text/x-python",
   "name": "python",
   "nbconvert_exporter": "python",
   "pygments_lexer": "ipython3",
   "version": "3.11.2"
  }
 },
 "nbformat": 4,
 "nbformat_minor": 5
}
